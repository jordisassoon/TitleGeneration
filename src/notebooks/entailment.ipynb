{
 "cells": [
  {
   "cell_type": "code",
   "execution_count": 7,
   "metadata": {},
   "outputs": [
    {
     "name": "stdout",
     "output_type": "stream",
     "text": [
      "/home/infres/amathur-23/kaggle_nlp/challenge_files\n"
     ]
    },
    {
     "name": "stderr",
     "output_type": "stream",
     "text": [
      "/home/infres/amathur-23/kaggle_nlp/challenge_files/nlp2/lib/python3.10/site-packages/IPython/core/magics/osm.py:393: UserWarning: This is now an optional IPython functionality, using bookmarks requires you to install the `pickleshare` library.\n",
      "  bkms = self.shell.db.get('bookmarks', {})\n",
      "/home/infres/amathur-23/kaggle_nlp/challenge_files/nlp2/lib/python3.10/site-packages/IPython/core/magics/osm.py:417: UserWarning: This is now an optional IPython functionality, setting dhist requires you to install the `pickleshare` library.\n",
      "  self.shell.db['dhist'] = compress_dhist(dhist)[-100:]\n"
     ]
    }
   ],
   "source": [
    "%cd ~/kaggle_nlp/challenge_files/"
   ]
  },
  {
   "cell_type": "code",
   "execution_count": 13,
   "metadata": {},
   "outputs": [],
   "source": [
    "# load model and tokenizer\n",
    "from transformers import AutoModelForSequenceClassification, AutoTokenizer, AutoModelForSeq2SeqLM\n",
    "\n",
    "import pandas as pd\n",
    "val_df = pd.read_csv(\"data/validation.csv\")\n"
   ]
  },
  {
   "cell_type": "code",
   "execution_count": 14,
   "metadata": {},
   "outputs": [],
   "source": [
    "def get_headline(model_path, text):\n",
    "    model = AutoModelForSeq2SeqLM.from_pretrained(model_path)\n",
    "    tokenizer = AutoTokenizer.from_pretrained(model_path)\n",
    "    if 't5' in model_path : text = \"summarize: \" + text \n",
    "    inputs = tokenizer.encode(text, return_tensors='pt', max_length=512, truncation=True)\n",
    "    summary_ids = model.generate(inputs, max_length=50, num_beams=4, early_stopping=True)\n",
    "    summary = tokenizer.decode(summary_ids[0], skip_special_tokens=True)\n",
    "    return summary"
   ]
  },
  {
   "cell_type": "code",
   "execution_count": 15,
   "metadata": {},
   "outputs": [
    {
     "name": "stderr",
     "output_type": "stream",
     "text": [
      "The following encoder weights were not tied to the decoder ['roberta/pooler']\n",
      "The following encoder weights were not tied to the decoder ['roberta/pooler']\n",
      "The following encoder weights were not tied to the decoder ['roberta/pooler']\n",
      "The following encoder weights were not tied to the decoder ['roberta/pooler']\n"
     ]
    }
   ],
   "source": [
    "text = val_df['text'][0]\n",
    "title = val_df['titles'][0]\n",
    "\n",
    "\n",
    "\n",
    "title_camembert = get_headline(\"camembert_enc_dec\", text)\n",
    "title_t5 = get_headline(\"t5_small_train_out\", text)"
   ]
  },
  {
   "cell_type": "code",
   "execution_count": 5,
   "metadata": {},
   "outputs": [
    {
     "data": {
      "text/plain": [
       "tensor([0.8641], grad_fn=<SelectBackward0>)"
      ]
     },
     "execution_count": 5,
     "metadata": {},
     "output_type": "execute_result"
    }
   ],
   "source": [
    "NLI_CONFIG = \"cmarkea/distilcamembert-base-nli\"\n",
    "# NLI_CONFIG = \"mtheo/camembert-base-xnli\"\n",
    "nli_model = AutoModelForSequenceClassification.from_pretrained(NLI_CONFIG).to(device)\n",
    "nli_tokenizer = AutoTokenizer.from_pretrained(NLI_CONFIG) "
   ]
  },
  {
   "cell_type": "code",
   "execution_count": 21,
   "metadata": {},
   "outputs": [],
   "source": [
    "import torch\n",
    "def get_entailment(nli_model, nli_tokenizer, text, pred):\n",
    "    nli_model.eval()\n",
    "    with torch.no_grad():\n",
    "        text = \" \".join(text.split(\" \")[:512])\n",
    "        x = nli_tokenizer.encode(text, pred, return_tensors='pt', max_length=512)#.to(device)\n",
    "        # print(x.shape)\n",
    "        logits = nli_model(x)[0]\n",
    "        entail_contradiction_logits = logits[:,::2]\n",
    "        probs = entail_contradiction_logits.softmax(dim=1)\n",
    "        entailment = probs[:,0].detach().cpu().numpy()[0]\n",
    "    return entailment"
   ]
  },
  {
   "cell_type": "code",
   "execution_count": 31,
   "metadata": {},
   "outputs": [],
   "source": [
    "from rouge_score import rouge_scorer\n",
    "\n",
    "def get_rouge(text, title):\n",
    "    scorer = rouge_scorer.RougeScorer(['rougeL'])\n",
    "    rouge_l_f1 = scorer.score(text, title)['rougeL'][2]\n",
    "    return rouge_l_f1"
   ]
  },
  {
   "cell_type": "code",
   "execution_count": 22,
   "metadata": {},
   "outputs": [
    {
     "name": "stdout",
     "output_type": "stream",
     "text": [
      "Sur les réseaux sociaux, les images sont impressionnantes. Dimanche matin à Venise, l'équipage du MSC Opéra a perdu le contrôle du paquebot, à son arrivée dans le port de la cité des Doges. Le navire, qui peut contenir plus de 2.600 passagers, est venu heurter le quai auquel il voulait s'arrimer. Le paquebot a raclé le quai sur plusieurs mètres, suscitant la panique des personnes à terre, avant de percuter un autre bateau touristique, le Michelangelo, stoppant ainsi sa course. Des témoins ont filmé la scène. Les vidéos montrent des touristes courant pour tenter de fuir le paquebot, qui ne semble pas vouloir s'arrêter. Quatre personnes ont été blessées dans cet accident : deux légèrement, tandis que les deux autres ont été transportées à l'hôpital pour des examens. L'incident s'est produit à San Basilio-Zaterre, dans le canal de la Giudecca, où de nombreux navires de croisière s'arrêtent pour permettre à leurs passagers de visiter Venise.Selon le quotidien italien Corriere della Serra, cette course folle serait due aux forts courants et à la rupture de l'un des câbles qui reliait le navire au remorqueur, qui l'aidait à entrer dans le canal.\n"
     ]
    }
   ],
   "source": [
    "print(text)"
   ]
  },
  {
   "cell_type": "code",
   "execution_count": 23,
   "metadata": {},
   "outputs": [
    {
     "name": "stdout",
     "output_type": "stream",
     "text": [
      "Le bateau de croisière, long de 275 m, a percuté un quai lors de son arrivée dans le port de Venise, dimanche 2 juin. Quatre personnes ont été blessées.\n",
      "0.89850354\n"
     ]
    }
   ],
   "source": [
    "print(title)\n",
    "print(get_entailment(nli_model, nli_tokenizer, text, title))"
   ]
  },
  {
   "cell_type": "code",
   "execution_count": 24,
   "metadata": {},
   "outputs": [
    {
     "name": "stdout",
     "output_type": "stream",
     "text": [
      "L'accident s'est produit à San Basilio-Zaterre, dans le sud de l'Italie. Quatre personnes ont été blessées, tandis que deux autres ont été transportées à l'hôpital.\n",
      "0.9839316\n"
     ]
    }
   ],
   "source": [
    "print(title_camembert)\n",
    "print(get_entailment(nli_model, nli_tokenizer, text, title_camembert))"
   ]
  },
  {
   "cell_type": "code",
   "execution_count": 25,
   "metadata": {},
   "outputs": [
    {
     "name": "stdout",
     "output_type": "stream",
     "text": [
      "L'équipage du MSC Opéra a perdu le contrôle du paquebot, à son arrivée dans le port de Venise. Des témoins ont filmé la scène.\n",
      "0.99796355\n"
     ]
    }
   ],
   "source": [
    "print(title_t5)\n",
    "print(get_entailment(nli_model, nli_tokenizer, text, title_t5))"
   ]
  },
  {
   "cell_type": "code",
   "execution_count": 27,
   "metadata": {},
   "outputs": [
    {
     "data": {
      "text/html": [
       "<div>\n",
       "<style scoped>\n",
       "    .dataframe tbody tr th:only-of-type {\n",
       "        vertical-align: middle;\n",
       "    }\n",
       "\n",
       "    .dataframe tbody tr th {\n",
       "        vertical-align: top;\n",
       "    }\n",
       "\n",
       "    .dataframe thead th {\n",
       "        text-align: right;\n",
       "    }\n",
       "</style>\n",
       "<table border=\"1\" class=\"dataframe\">\n",
       "  <thead>\n",
       "    <tr style=\"text-align: right;\">\n",
       "      <th></th>\n",
       "      <th>premise</th>\n",
       "      <th>hypothesis</th>\n",
       "      <th>entailment_score</th>\n",
       "    </tr>\n",
       "  </thead>\n",
       "  <tbody>\n",
       "    <tr>\n",
       "      <th>0</th>\n",
       "      <td>Le score pour les bleus est élevé</td>\n",
       "      <td>L'équipe de France a fait un bon match</td>\n",
       "      <td>0.872316</td>\n",
       "    </tr>\n",
       "    <tr>\n",
       "      <th>1</th>\n",
       "      <td>Le score pour les bleus est élevé</td>\n",
       "      <td>l'équipe de France va sûrement perdre le match...</td>\n",
       "      <td>0.015618</td>\n",
       "    </tr>\n",
       "    <tr>\n",
       "      <th>2</th>\n",
       "      <td>Le score pour les bleus est élevé</td>\n",
       "      <td>La Seine a plus de 14 000 ans.</td>\n",
       "      <td>0.247390</td>\n",
       "    </tr>\n",
       "  </tbody>\n",
       "</table>\n",
       "</div>"
      ],
      "text/plain": [
       "                             premise  \\\n",
       "0  Le score pour les bleus est élevé   \n",
       "1  Le score pour les bleus est élevé   \n",
       "2  Le score pour les bleus est élevé   \n",
       "\n",
       "                                          hypothesis  entailment_score  \n",
       "0             L'équipe de France a fait un bon match          0.872316  \n",
       "1  l'équipe de France va sûrement perdre le match...          0.015618  \n",
       "2                     La Seine a plus de 14 000 ans.          0.247390  "
      ]
     },
     "execution_count": 27,
     "metadata": {},
     "output_type": "execute_result"
    }
   ],
   "source": [
    "premises = [\n",
    "    \"Le score pour les bleus est élevé\", \n",
    "]*3\n",
    "\n",
    "hypotheses = [\n",
    "    \"L'équipe de France a fait un bon match\", \n",
    "    \"l'équipe de France va sûrement perdre le match aujourd'hui.\", \n",
    "    \"La Seine a plus de 14 000 ans.\"\n",
    "]\n",
    "\n",
    "ents = []\n",
    "\n",
    "for p, h in zip(premises, hypotheses):\n",
    "    ents.append(get_entailment(nli_model, nli_tokenizer, p, h))\n",
    "\n",
    "df = pd.DataFrame({'premise':premises, 'hypothesis':hypotheses, 'entailment_score':ents})\n",
    "df.head()"
   ]
  },
  {
   "cell_type": "code",
   "execution_count": 28,
   "metadata": {},
   "outputs": [
    {
     "name": "stdout",
     "output_type": "stream",
     "text": [
      "\\begin{tabular}{llr}\n",
      "\\toprule\n",
      "premise & hypothesis & entailment_score \\\\\n",
      "\\midrule\n",
      "Le score pour les bleus est élevé & L'équipe de France a fait un bon match & 0.872316 \\\\\n",
      "Le score pour les bleus est élevé & l'équipe de France va sûrement perdre le match aujourd'hui. & 0.015618 \\\\\n",
      "Le score pour les bleus est élevé & La Seine a plus de 14 000 ans. & 0.247390 \\\\\n",
      "\\bottomrule\n",
      "\\end{tabular}\n",
      "\n"
     ]
    }
   ],
   "source": [
    "latex_table = df.to_latex(index=False)\n",
    "print(latex_table)"
   ]
  },
  {
   "cell_type": "code",
   "execution_count": 29,
   "metadata": {},
   "outputs": [
    {
     "data": {
      "text/plain": [
       "\"Sur les réseaux sociaux, les images sont impressionnantes. Dimanche matin à Venise, l'équipage du MSC Opéra a perdu le contrôle du paquebot, à son arrivée dans le port de la cité des Doges. Le navire, qui peut contenir plus de 2.600 passagers, est venu heurter le quai auquel il voulait s'arrimer. Le paquebot a raclé le quai sur plusieurs mètres, suscitant la panique des personnes à terre, avant de percuter un autre bateau touristique, le Michelangelo, stoppant ainsi sa course. Des témoins ont filmé la scène. Les vidéos montrent des touristes courant pour tenter de fuir le paquebot, qui ne semble pas vouloir s'arrêter. Quatre personnes ont été blessées dans cet accident : deux légèrement, tandis que les deux autres ont été transportées à l'hôpital pour des examens. L'incident s'est produit à San Basilio-Zaterre, dans le canal de la Giudecca, où de nombreux navires de croisière s'arrêtent pour permettre à leurs passagers de visiter Venise.Selon le quotidien italien Corriere della Serra, cette course folle serait due aux forts courants et à la rupture de l'un des câbles qui reliait le navire au remorqueur, qui l'aidait à entrer dans le canal.\""
      ]
     },
     "execution_count": 29,
     "metadata": {},
     "output_type": "execute_result"
    }
   ],
   "source": [
    "text"
   ]
  },
  {
   "cell_type": "code",
   "execution_count": 32,
   "metadata": {},
   "outputs": [
    {
     "name": "stdout",
     "output_type": "stream",
     "text": [
      "1.0\n",
      "0.28571428571428575\n",
      "0.3278688524590164\n"
     ]
    }
   ],
   "source": [
    "titles = [title, title_camembert, title_t5]\n",
    "for t in titles:\n",
    "    print(get_rouge(title, t))"
   ]
  },
  {
   "cell_type": "code",
   "execution_count": 33,
   "metadata": {},
   "outputs": [
    {
     "data": {
      "text/plain": [
       "['Le bateau de croisière, long de 275 m, a percuté un quai lors de son arrivée dans le port de Venise, dimanche 2 juin. Quatre personnes ont été blessées.',\n",
       " \"L'accident s'est produit à San Basilio-Zaterre, dans le sud de l'Italie. Quatre personnes ont été blessées, tandis que deux autres ont été transportées à l'hôpital.\",\n",
       " \"L'équipage du MSC Opéra a perdu le contrôle du paquebot, à son arrivée dans le port de Venise. Des témoins ont filmé la scène.\"]"
      ]
     },
     "execution_count": 33,
     "metadata": {},
     "output_type": "execute_result"
    }
   ],
   "source": [
    "titles"
   ]
  }
 ],
 "metadata": {
  "kernelspec": {
   "display_name": "nlp2",
   "language": "python",
   "name": "python3"
  },
  "language_info": {
   "codemirror_mode": {
    "name": "ipython",
    "version": 3
   },
   "file_extension": ".py",
   "mimetype": "text/x-python",
   "name": "python",
   "nbconvert_exporter": "python",
   "pygments_lexer": "ipython3",
   "version": "3.10.12"
  }
 },
 "nbformat": 4,
 "nbformat_minor": 2
}
